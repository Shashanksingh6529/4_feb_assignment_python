{
 "cells": [
  {
   "cell_type": "markdown",
   "id": "db356a98-5fdb-486f-92d6-af057953797a",
   "metadata": {},
   "source": [
    "Q1. Python program to sort a list of tuples based on integer value using a lambda function:"
   ]
  },
  {
   "cell_type": "code",
   "execution_count": 1,
   "id": "dacd89d0-bcda-4e46-a416-bc3ad7fd6e70",
   "metadata": {},
   "outputs": [
    {
     "name": "stdout",
     "output_type": "stream",
     "text": [
      "[('Virat Kohli', 24936), ('Jack Kallis', 25534), ('Ricky Ponting', 27483), ('Sachin Tendulkar', 34357)]\n"
     ]
    }
   ],
   "source": [
    "data = [('Sachin Tendulkar', 34357), ('Ricky Ponting', 27483), ('Jack Kallis', 25534), ('Virat Kohli', 24936)]\n",
    "\n",
    "sorted_data = sorted(data, key=lambda x: x[1])\n",
    "print(sorted_data)"
   ]
  },
  {
   "cell_type": "markdown",
   "id": "96cf8d70-81a6-4252-8f14-6dff97fbaf84",
   "metadata": {},
   "source": [
    "Q2. Python program to find squares of all numbers in a list using lambda and map functions:"
   ]
  },
  {
   "cell_type": "code",
   "execution_count": 2,
   "id": "c0ead5ea-b637-4577-8c11-821dac579f7f",
   "metadata": {},
   "outputs": [
    {
     "name": "stdout",
     "output_type": "stream",
     "text": [
      "[1, 4, 9, 16, 25, 36, 49, 64, 81, 100]\n"
     ]
    }
   ],
   "source": [
    "numbers = [1, 2, 3, 4, 5, 6, 7, 8, 9, 10]\n",
    "\n",
    "squares = list(map(lambda x: x**2, numbers))\n",
    "print(squares)"
   ]
  },
  {
   "cell_type": "markdown",
   "id": "15e6cb71-0b40-44f8-a7ff-5df5137f87f8",
   "metadata": {},
   "source": [
    "Q3. Python program to convert a list of integers into a tuple of strings using map and lambda functions:"
   ]
  },
  {
   "cell_type": "code",
   "execution_count": 3,
   "id": "c4cbb6d6-73b5-4fc5-9308-175efb506658",
   "metadata": {},
   "outputs": [
    {
     "name": "stdout",
     "output_type": "stream",
     "text": [
      "('1', '2', '3', '4', '5', '6', '7', '8', '9', '10')\n"
     ]
    }
   ],
   "source": [
    "integers = [1, 2, 3, 4, 5, 6, 7, 8, 9, 10]\n",
    "\n",
    "string_tuple = tuple(map(lambda x: str(x), integers))\n",
    "print(string_tuple)"
   ]
  },
  {
   "cell_type": "markdown",
   "id": "0a1435d1-75ec-4b02-b0ef-96d62c8a03dd",
   "metadata": {},
   "source": [
    "Q4. Python program using reduce function to compute the product of a list containing numbers from 1 to 25:"
   ]
  },
  {
   "cell_type": "code",
   "execution_count": 4,
   "id": "3e84f4d3-8d3e-4704-ad74-78d7cae19c9c",
   "metadata": {},
   "outputs": [
    {
     "name": "stdout",
     "output_type": "stream",
     "text": [
      "15511210043330985984000000\n"
     ]
    }
   ],
   "source": [
    "from functools import reduce\n",
    "\n",
    "numbers = range(1, 26)\n",
    "product = reduce(lambda x, y: x * y, numbers)\n",
    "print(product)"
   ]
  },
  {
   "cell_type": "raw",
   "id": "466851e3-840f-4b4c-9e34-289a9b603aa6",
   "metadata": {},
   "source": [
    "Q5. Python program to filter numbers in a list that are divisible by 2 and 3 using the filter function:"
   ]
  },
  {
   "cell_type": "code",
   "execution_count": 5,
   "id": "08030d3f-8256-4a6e-9bbb-71088f346fe0",
   "metadata": {},
   "outputs": [
    {
     "name": "stdout",
     "output_type": "stream",
     "text": [
      "[6, 60, 90, 120]\n"
     ]
    }
   ],
   "source": [
    "numbers = [2, 3, 6, 9, 27, 60, 90, 120, 55, 46]\n",
    "\n",
    "filtered_numbers = list(filter(lambda x: x % 2 == 0 and x % 3 == 0, numbers))\n",
    "print(filtered_numbers)"
   ]
  },
  {
   "cell_type": "markdown",
   "id": "c89e5c09-43b4-4aa5-9caa-422363e8f126",
   "metadata": {},
   "source": [
    "Q6. Python program to find palindromes in a list of strings using lambda and filter functions:"
   ]
  },
  {
   "cell_type": "code",
   "execution_count": 6,
   "id": "e993c672-b141-46f7-8a13-28f6de740b4b",
   "metadata": {},
   "outputs": [
    {
     "name": "stdout",
     "output_type": "stream",
     "text": [
      "['php', 'aba', 'radar', 'level']\n"
     ]
    }
   ],
   "source": [
    "strings = ['python', 'php', 'aba', 'radar', 'level']\n",
    "\n",
    "palindromes = list(filter(lambda x: x == x[::-1], strings))\n",
    "print(palindromes)"
   ]
  },
  {
   "cell_type": "code",
   "execution_count": null,
   "id": "bd676585-29e4-498c-8fbd-e311acf6d84e",
   "metadata": {},
   "outputs": [],
   "source": []
  }
 ],
 "metadata": {
  "kernelspec": {
   "display_name": "Python 3 (ipykernel)",
   "language": "python",
   "name": "python3"
  },
  "language_info": {
   "codemirror_mode": {
    "name": "ipython",
    "version": 3
   },
   "file_extension": ".py",
   "mimetype": "text/x-python",
   "name": "python",
   "nbconvert_exporter": "python",
   "pygments_lexer": "ipython3",
   "version": "3.10.8"
  }
 },
 "nbformat": 4,
 "nbformat_minor": 5
}
